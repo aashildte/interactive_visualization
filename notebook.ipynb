{
 "cells": [
  {
   "cell_type": "markdown",
   "metadata": {},
   "source": [
    "**Visualisation script**\n",
    "\n",
    "*Åshild Telle / Simula Research Laboratory / 2019*\n",
    "\n",
    "This notebook aims to visualise certian output values over time across different numerical experiments; it's written for comparing the output from a specific model, but I've attempted to make everything quite general.\n",
    "\n",
    "The input is, as for now, assumed to be npy files located in a given folder. Each input file is assumed to contain a dictionary with the following structure:\n",
    "\n",
    "* key: \"input_params\"\n",
    "  * value: dictionary, where\n",
    "    * keys describes a predefined parameter (e.g. \"C\", or \"explicit\"); keys need to be the same across all files\n",
    "    * values contains the corresponding value for that particular experiment (e.g. \"2\", or \"True\") – as for now, this can only be a single value (i.e. if you want to run an experiment across values C = {1, 2, 3} you need to save these data in 3 different files)\n",
    "* key: \"time\"\n",
    "  * value: 1D numpy array of length T. Can be different from file to file.\n",
    "* key: \"ms_points\"\n",
    "  * value: list which gives a description of all measuring points (e.g. \\[\"Pillar 1\", \"Pillar \", ...\\] or a list of coordinates); of length N. Should be the same across all files.\n",
    "* key: \"dimensions\" \n",
    "  * value: list which give a description of all dimensions (e.g. \\[\"x\", \"y\", \"z\"\\]), of length D. Should be the same across all files.\n",
    "* key: \"output_values\"\n",
    "  * value: another dictionary, where\n",
    "    * keys indicate what kind of value\n",
    "    * values are T x N x d numpy, d $\\in [0, D]$; T for time, N for number of measuring points, D for dimensions (*note that we do not require all arrays to be of the same size; for now T and N are assumed to be constant but d can vary – because we can have 1D, 2D and 3D values tracked within the same experiment*)\n"
   ]
  },
  {
   "cell_type": "code",
   "execution_count": null,
   "metadata": {},
   "outputs": [],
   "source": [
    "        "
   ]
  },
  {
   "cell_type": "code",
   "execution_count": 5,
   "metadata": {
    "scrolled": false
   },
   "outputs": [
    {
     "data": {
      "application/vnd.jupyter.widget-view+json": {
       "model_id": "33e8686220754cafb7b580e16af815b2",
       "version_major": 2,
       "version_minor": 0
      },
      "text/plain": [
       "Tab(children=(VBox(children=(Checkbox(value=True, description='Pillar tracking'),)), VBox(children=(Checkbox(v…"
      ]
     },
     "metadata": {},
     "output_type": "display_data"
    },
    {
     "data": {
      "application/vnd.jupyter.widget-view+json": {
       "model_id": "348894d088cc44fa9191213e4f6099b4",
       "version_major": 2,
       "version_minor": 0
      },
      "text/plain": [
       "Output()"
      ]
     },
     "metadata": {},
     "output_type": "display_data"
    }
   ],
   "source": [
    "import os\n",
    "import ipywidgets as widgets\n",
    "from IPython.display import display\n",
    "%matplotlib notebook\n",
    "\n",
    "from framework.framework import setup\n",
    "\n",
    "folder = \"/home/ashild/Dokumenter/Prosjekter/Mechanical model/Iso\"    # path to folder\n",
    "#folder = \"/home/ashild/Dokumenter/Prosjekter/Mechanical model/mpsmechanicalmodel/nobackup/drug_test\"\n",
    "figsize = (9, 9)                                # will be (9, 3) for each subplot; adjust for different plot sizes\n",
    "type_plot = \"ms_points\"                    # don't change this (for now)\n",
    "\n",
    "update, checkboxes, tabs = \\\n",
    "    setup(widgets, folder, figsize, type_plot)\n",
    "w = widgets.interactive_output(update, checkboxes)\n",
    "display(tabs, w)\n"
   ]
  },
  {
   "cell_type": "code",
   "execution_count": null,
   "metadata": {},
   "outputs": [],
   "source": []
  },
  {
   "cell_type": "code",
   "execution_count": null,
   "metadata": {},
   "outputs": [],
   "source": []
  },
  {
   "cell_type": "code",
   "execution_count": null,
   "metadata": {},
   "outputs": [],
   "source": []
  },
  {
   "cell_type": "code",
   "execution_count": null,
   "metadata": {},
   "outputs": [],
   "source": []
  },
  {
   "cell_type": "code",
   "execution_count": null,
   "metadata": {},
   "outputs": [],
   "source": []
  },
  {
   "cell_type": "code",
   "execution_count": null,
   "metadata": {},
   "outputs": [],
   "source": []
  },
  {
   "cell_type": "code",
   "execution_count": null,
   "metadata": {},
   "outputs": [],
   "source": []
  },
  {
   "cell_type": "code",
   "execution_count": null,
   "metadata": {},
   "outputs": [],
   "source": []
  },
  {
   "cell_type": "code",
   "execution_count": null,
   "metadata": {},
   "outputs": [],
   "source": []
  },
  {
   "cell_type": "code",
   "execution_count": null,
   "metadata": {},
   "outputs": [],
   "source": []
  },
  {
   "cell_type": "code",
   "execution_count": null,
   "metadata": {},
   "outputs": [],
   "source": []
  }
 ],
 "metadata": {
  "kernelspec": {
   "display_name": "Python 3",
   "language": "python",
   "name": "python3"
  },
  "language_info": {
   "codemirror_mode": {
    "name": "ipython",
    "version": 3
   },
   "file_extension": ".py",
   "mimetype": "text/x-python",
   "name": "python",
   "nbconvert_exporter": "python",
   "pygments_lexer": "ipython3",
   "version": "3.7.3"
  }
 },
 "nbformat": 4,
 "nbformat_minor": 2
}
